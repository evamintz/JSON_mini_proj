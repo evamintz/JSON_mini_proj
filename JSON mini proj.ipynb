{
 "cells": [
  {
   "cell_type": "markdown",
   "metadata": {},
   "source": [
    "# Springboard JSON mini project\n",
    "\n",
    "This notebook will go over the following three tasks:\n",
    "\n",
    "Using data in file 'data/world_bank_projects.json' and the techniques demonstrated above,\n",
    "\n",
    "1. Find the 10 countries with most projects\n",
    "2. Find the top 10 major project themes (using column 'mjtheme_namecode')\n",
    "3. In 2. above you will notice that some entries have only the code and the name is missing. Create a dataframe with the missing names filled in."
   ]
  },
  {
   "cell_type": "markdown",
   "metadata": {},
   "source": [
    "Import necessary packages, Pandas, JSON, and json_normalize"
   ]
  },
  {
   "cell_type": "code",
   "execution_count": 81,
   "metadata": {},
   "outputs": [],
   "source": [
    "import pandas as pd\n",
    "import json\n",
    "from pandas.io.json import json_normalize"
   ]
  },
  {
   "cell_type": "markdown",
   "metadata": {},
   "source": [
    "Load the data as a dataframe and take a quick glance"
   ]
  },
  {
   "cell_type": "code",
   "execution_count": 82,
   "metadata": {
    "collapsed": true
   },
   "outputs": [
    {
     "data": {
      "text/html": [
       "<div>\n",
       "<style scoped>\n",
       "    .dataframe tbody tr th:only-of-type {\n",
       "        vertical-align: middle;\n",
       "    }\n",
       "\n",
       "    .dataframe tbody tr th {\n",
       "        vertical-align: top;\n",
       "    }\n",
       "\n",
       "    .dataframe thead th {\n",
       "        text-align: right;\n",
       "    }\n",
       "</style>\n",
       "<table border=\"1\" class=\"dataframe\">\n",
       "  <thead>\n",
       "    <tr style=\"text-align: right;\">\n",
       "      <th></th>\n",
       "      <th>sector</th>\n",
       "      <th>supplementprojectflg</th>\n",
       "      <th>projectfinancialtype</th>\n",
       "      <th>prodline</th>\n",
       "      <th>mjtheme</th>\n",
       "      <th>idacommamt</th>\n",
       "      <th>impagency</th>\n",
       "      <th>project_name</th>\n",
       "      <th>mjthemecode</th>\n",
       "      <th>closingdate</th>\n",
       "      <th>...</th>\n",
       "      <th>majorsector_percent</th>\n",
       "      <th>board_approval_month</th>\n",
       "      <th>theme_namecode</th>\n",
       "      <th>countryname</th>\n",
       "      <th>url</th>\n",
       "      <th>source</th>\n",
       "      <th>projectstatusdisplay</th>\n",
       "      <th>ibrdcommamt</th>\n",
       "      <th>sector_namecode</th>\n",
       "      <th>_id</th>\n",
       "    </tr>\n",
       "  </thead>\n",
       "  <tbody>\n",
       "    <tr>\n",
       "      <td>0</td>\n",
       "      <td>[{'Name': 'Primary education'}, {'Name': 'Secondary education'}, {'Name': 'Public administration- Other social services'}, {'Name': 'Tertiary education'}]</td>\n",
       "      <td>N</td>\n",
       "      <td>IDA</td>\n",
       "      <td>PE</td>\n",
       "      <td>[Human development]</td>\n",
       "      <td>130000000</td>\n",
       "      <td>MINISTRY OF EDUCATION</td>\n",
       "      <td>Ethiopia General Education Quality Improvement Project II</td>\n",
       "      <td>8,11</td>\n",
       "      <td>2018-07-07T00:00:00Z</td>\n",
       "      <td>...</td>\n",
       "      <td>[{'Percent': 46, 'Name': 'Education'}, {'Percent': 26, 'Name': 'Education'}, {'Percent': 16, 'Name': 'Public Administration, Law, and Justice'}, {'Percent': 12, 'Name': 'Education'}]</td>\n",
       "      <td>November</td>\n",
       "      <td>[{'code': '65', 'name': 'Education for all'}]</td>\n",
       "      <td>Federal Democratic Republic of Ethiopia</td>\n",
       "      <td>http://www.worldbank.org/projects/P129828/ethiopia-general-education-quality-improvement-project-ii?lang=en</td>\n",
       "      <td>IBRD</td>\n",
       "      <td>Active</td>\n",
       "      <td>0</td>\n",
       "      <td>[{'code': 'EP', 'name': 'Primary education'}, {'code': 'ES', 'name': 'Secondary education'}, {'code': 'BS', 'name': 'Public administration- Other social services'}, {'code': 'ET', 'name': 'Tertiary education'}]</td>\n",
       "      <td>{'$oid': '52b213b38594d8a2be17c780'}</td>\n",
       "    </tr>\n",
       "    <tr>\n",
       "      <td>1</td>\n",
       "      <td>[{'Name': 'Public administration- Other social services'}, {'Name': 'General public administration sector'}]</td>\n",
       "      <td>N</td>\n",
       "      <td>OTHER</td>\n",
       "      <td>RE</td>\n",
       "      <td>[Economic management, Social protection and risk management]</td>\n",
       "      <td>0</td>\n",
       "      <td>MINISTRY OF FINANCE</td>\n",
       "      <td>TN: DTF Social Protection Reforms Support</td>\n",
       "      <td>1,6</td>\n",
       "      <td>NaN</td>\n",
       "      <td>...</td>\n",
       "      <td>[{'Percent': 70, 'Name': 'Public Administration, Law, and Justice'}, {'Percent': 30, 'Name': 'Public Administration, Law, and Justice'}]</td>\n",
       "      <td>November</td>\n",
       "      <td>[{'code': '24', 'name': 'Other economic management'}, {'code': '54', 'name': 'Social safety nets'}]</td>\n",
       "      <td>Republic of Tunisia</td>\n",
       "      <td>http://www.worldbank.org/projects/P144674?lang=en</td>\n",
       "      <td>IBRD</td>\n",
       "      <td>Active</td>\n",
       "      <td>0</td>\n",
       "      <td>[{'code': 'BS', 'name': 'Public administration- Other social services'}, {'code': 'BZ', 'name': 'General public administration sector'}]</td>\n",
       "      <td>{'$oid': '52b213b38594d8a2be17c781'}</td>\n",
       "    </tr>\n",
       "    <tr>\n",
       "      <td>2</td>\n",
       "      <td>[{'Name': 'Rural and Inter-Urban Roads and Highways'}]</td>\n",
       "      <td>Y</td>\n",
       "      <td>IDA</td>\n",
       "      <td>PE</td>\n",
       "      <td>[Trade and integration, Public sector governance, Environment and natural resources management, Social protection and risk management]</td>\n",
       "      <td>6060000</td>\n",
       "      <td>MINISTRY OF TRANSPORT AND COMMUNICATIONS</td>\n",
       "      <td>Tuvalu Aviation Investment Project - Additional Financing</td>\n",
       "      <td>5,2,11,6</td>\n",
       "      <td>NaN</td>\n",
       "      <td>...</td>\n",
       "      <td>[{'Percent': 100, 'Name': 'Transportation'}]</td>\n",
       "      <td>November</td>\n",
       "      <td>[{'code': '47', 'name': 'Regional integration'}, {'code': '25', 'name': 'Administrative and civil service reform'}, {'code': '81', 'name': 'Climate change'}, {'code': '52', 'name': 'Natural disaster management'}]</td>\n",
       "      <td>Tuvalu</td>\n",
       "      <td>http://www.worldbank.org/projects/P145310?lang=en</td>\n",
       "      <td>IBRD</td>\n",
       "      <td>Active</td>\n",
       "      <td>0</td>\n",
       "      <td>[{'code': 'TI', 'name': 'Rural and Inter-Urban Roads and Highways'}]</td>\n",
       "      <td>{'$oid': '52b213b38594d8a2be17c782'}</td>\n",
       "    </tr>\n",
       "  </tbody>\n",
       "</table>\n",
       "<p>3 rows × 50 columns</p>\n",
       "</div>"
      ],
      "text/plain": [
       "                                                                                                                                                       sector  \\\n",
       "0  [{'Name': 'Primary education'}, {'Name': 'Secondary education'}, {'Name': 'Public administration- Other social services'}, {'Name': 'Tertiary education'}]   \n",
       "1  [{'Name': 'Public administration- Other social services'}, {'Name': 'General public administration sector'}]                                                 \n",
       "2  [{'Name': 'Rural and Inter-Urban Roads and Highways'}]                                                                                                       \n",
       "\n",
       "  supplementprojectflg projectfinancialtype prodline  \\\n",
       "0  N                    IDA                  PE        \n",
       "1  N                    OTHER                RE        \n",
       "2  Y                    IDA                  PE        \n",
       "\n",
       "                                                                                                                                  mjtheme  \\\n",
       "0  [Human development]                                                                                                                      \n",
       "1  [Economic management, Social protection and risk management]                                                                             \n",
       "2  [Trade and integration, Public sector governance, Environment and natural resources management, Social protection and risk management]   \n",
       "\n",
       "   idacommamt                                 impagency  \\\n",
       "0  130000000   MINISTRY OF EDUCATION                      \n",
       "1  0           MINISTRY OF FINANCE                        \n",
       "2  6060000     MINISTRY OF TRANSPORT AND COMMUNICATIONS   \n",
       "\n",
       "                                                project_name mjthemecode  \\\n",
       "0  Ethiopia General Education Quality Improvement Project II  8,11         \n",
       "1  TN: DTF Social Protection Reforms Support                  1,6          \n",
       "2  Tuvalu Aviation Investment Project - Additional Financing  5,2,11,6     \n",
       "\n",
       "            closingdate  ...  \\\n",
       "0  2018-07-07T00:00:00Z  ...   \n",
       "1  NaN                   ...   \n",
       "2  NaN                   ...   \n",
       "\n",
       "                                                                                                                                                                      majorsector_percent  \\\n",
       "0  [{'Percent': 46, 'Name': 'Education'}, {'Percent': 26, 'Name': 'Education'}, {'Percent': 16, 'Name': 'Public Administration, Law, and Justice'}, {'Percent': 12, 'Name': 'Education'}]   \n",
       "1  [{'Percent': 70, 'Name': 'Public Administration, Law, and Justice'}, {'Percent': 30, 'Name': 'Public Administration, Law, and Justice'}]                                                 \n",
       "2  [{'Percent': 100, 'Name': 'Transportation'}]                                                                                                                                             \n",
       "\n",
       "  board_approval_month  \\\n",
       "0  November              \n",
       "1  November              \n",
       "2  November              \n",
       "\n",
       "                                                                                                                                                                                                         theme_namecode  \\\n",
       "0  [{'code': '65', 'name': 'Education for all'}]                                                                                                                                                                          \n",
       "1  [{'code': '24', 'name': 'Other economic management'}, {'code': '54', 'name': 'Social safety nets'}]                                                                                                                    \n",
       "2  [{'code': '47', 'name': 'Regional integration'}, {'code': '25', 'name': 'Administrative and civil service reform'}, {'code': '81', 'name': 'Climate change'}, {'code': '52', 'name': 'Natural disaster management'}]   \n",
       "\n",
       "                               countryname  \\\n",
       "0  Federal Democratic Republic of Ethiopia   \n",
       "1  Republic of Tunisia                       \n",
       "2  Tuvalu                                    \n",
       "\n",
       "                                                                                                           url  \\\n",
       "0  http://www.worldbank.org/projects/P129828/ethiopia-general-education-quality-improvement-project-ii?lang=en   \n",
       "1  http://www.worldbank.org/projects/P144674?lang=en                                                             \n",
       "2  http://www.worldbank.org/projects/P145310?lang=en                                                             \n",
       "\n",
       "  source projectstatusdisplay ibrdcommamt  \\\n",
       "0  IBRD   Active               0            \n",
       "1  IBRD   Active               0            \n",
       "2  IBRD   Active               0            \n",
       "\n",
       "                                                                                                                                                                                                      sector_namecode  \\\n",
       "0  [{'code': 'EP', 'name': 'Primary education'}, {'code': 'ES', 'name': 'Secondary education'}, {'code': 'BS', 'name': 'Public administration- Other social services'}, {'code': 'ET', 'name': 'Tertiary education'}]   \n",
       "1  [{'code': 'BS', 'name': 'Public administration- Other social services'}, {'code': 'BZ', 'name': 'General public administration sector'}]                                                                             \n",
       "2  [{'code': 'TI', 'name': 'Rural and Inter-Urban Roads and Highways'}]                                                                                                                                                 \n",
       "\n",
       "                                    _id  \n",
       "0  {'$oid': '52b213b38594d8a2be17c780'}  \n",
       "1  {'$oid': '52b213b38594d8a2be17c781'}  \n",
       "2  {'$oid': '52b213b38594d8a2be17c782'}  \n",
       "\n",
       "[3 rows x 50 columns]"
      ]
     },
     "execution_count": 82,
     "metadata": {},
     "output_type": "execute_result"
    }
   ],
   "source": [
    "df = pd.read_json(r'C:\\Users\\Evan\\Programming\\Jupiter Projects\\data_wrangling_json\\data\\world_bank_projects.json')\n",
    "df.head(3)"
   ]
  },
  {
   "cell_type": "markdown",
   "metadata": {},
   "source": [
    "## Task 1: Find top 10 countries with most projects\n",
    "Manipulate the dataframe to show the shortname of the countries. Each project is listed separately so the count of country names will determine how many projects each country has active."
   ]
  },
  {
   "cell_type": "code",
   "execution_count": 83,
   "metadata": {
    "collapsed": true
   },
   "outputs": [
    {
     "data": {
      "text/plain": [
       "China                 19\n",
       "Indonesia             19\n",
       "Vietnam               17\n",
       "India                 16\n",
       "Yemen, Republic of    13\n",
       "Morocco               12\n",
       "Nepal                 12\n",
       "Bangladesh            12\n",
       "Mozambique            11\n",
       "Africa                11\n",
       "Name: countryshortname, dtype: int64"
      ]
     },
     "execution_count": 83,
     "metadata": {},
     "output_type": "execute_result"
    }
   ],
   "source": [
    "df.countryshortname.value_counts().nlargest(10)"
   ]
  },
  {
   "cell_type": "markdown",
   "metadata": {},
   "source": [
    " This lists Africa as a country which needs to be removed."
   ]
  },
  {
   "cell_type": "code",
   "execution_count": 84,
   "metadata": {
    "collapsed": true
   },
   "outputs": [
    {
     "data": {
      "text/plain": [
       "Indonesia             19\n",
       "China                 19\n",
       "Vietnam               17\n",
       "India                 16\n",
       "Yemen, Republic of    13\n",
       "Morocco               12\n",
       "Nepal                 12\n",
       "Bangladesh            12\n",
       "Mozambique            11\n",
       "Burkina Faso          9 \n",
       "Brazil                9 \n",
       "Pakistan              9 \n",
       "Name: countryshortname, dtype: int64"
      ]
     },
     "execution_count": 84,
     "metadata": {},
     "output_type": "execute_result"
    }
   ],
   "source": [
    "df_no_continents = df[df.countryshortname != 'Africa']\n",
    "df_no_continents = df_no_continents.countryshortname.value_counts().nlargest(12)\n",
    "df_no_continents"
   ]
  },
  {
   "cell_type": "markdown",
   "metadata": {},
   "source": [
    "The 12 largest are listed because the last three all have 9 active projects.\n"
   ]
  },
  {
   "cell_type": "markdown",
   "metadata": {},
   "source": [
    "## Task 2: Find the top 10 major project themes (using column 'mjtheme_namecode')\n"
   ]
  },
  {
   "cell_type": "code",
   "execution_count": 89,
   "metadata": {},
   "outputs": [
    {
     "data": {
      "text/plain": [
       "0    [{'code': '8', 'name': 'Human development'}, {'code': '11', 'name': ''}]                                                                                                                                                                   \n",
       "1    [{'code': '1', 'name': 'Economic management'}, {'code': '6', 'name': 'Social protection and risk management'}]                                                                                                                             \n",
       "2    [{'code': '5', 'name': 'Trade and integration'}, {'code': '2', 'name': 'Public sector governance'}, {'code': '11', 'name': 'Environment and natural resources management'}, {'code': '6', 'name': 'Social protection and risk management'}]\n",
       "3    [{'code': '7', 'name': 'Social dev/gender/inclusion'}, {'code': '7', 'name': 'Social dev/gender/inclusion'}]                                                                                                                               \n",
       "4    [{'code': '5', 'name': 'Trade and integration'}, {'code': '4', 'name': 'Financial and private sector development'}]                                                                                                                        \n",
       "5    [{'code': '6', 'name': 'Social protection and risk management'}, {'code': '6', 'name': ''}]                                                                                                                                                \n",
       "6    [{'code': '2', 'name': 'Public sector governance'}, {'code': '4', 'name': 'Financial and private sector development'}]                                                                                                                     \n",
       "7    [{'code': '11', 'name': 'Environment and natural resources management'}, {'code': '8', 'name': ''}]                                                                                                                                        \n",
       "8    [{'code': '10', 'name': 'Rural development'}, {'code': '7', 'name': ''}]                                                                                                                                                                   \n",
       "9    [{'code': '2', 'name': 'Public sector governance'}, {'code': '2', 'name': 'Public sector governance'}, {'code': '2', 'name': 'Public sector governance'}]                                                                                  \n",
       "Name: mjtheme_namecode, dtype: object"
      ]
     },
     "execution_count": 89,
     "metadata": {},
     "output_type": "execute_result"
    }
   ],
   "source": [
    "pd.set_option('display.max_colwidth', -1)\n",
    "df.mjtheme_namecode.head(10)"
   ]
  },
  {
   "cell_type": "markdown",
   "metadata": {},
   "source": [
    "Data is stored as dictionaries for codes and names. Some rows have multiple codes/themes and some are even repeated within the same row.\n",
    "Normalize and view codes, names, and id."
   ]
  },
  {
   "cell_type": "code",
   "execution_count": 90,
   "metadata": {},
   "outputs": [
    {
     "data": {
      "text/html": [
       "<div>\n",
       "<style scoped>\n",
       "    .dataframe tbody tr th:only-of-type {\n",
       "        vertical-align: middle;\n",
       "    }\n",
       "\n",
       "    .dataframe tbody tr th {\n",
       "        vertical-align: top;\n",
       "    }\n",
       "\n",
       "    .dataframe thead th {\n",
       "        text-align: right;\n",
       "    }\n",
       "</style>\n",
       "<table border=\"1\" class=\"dataframe\">\n",
       "  <thead>\n",
       "    <tr style=\"text-align: right;\">\n",
       "      <th></th>\n",
       "      <th>code</th>\n",
       "      <th>name</th>\n",
       "      <th>id</th>\n",
       "    </tr>\n",
       "  </thead>\n",
       "  <tbody>\n",
       "    <tr>\n",
       "      <td>0</td>\n",
       "      <td>8</td>\n",
       "      <td>Human development</td>\n",
       "      <td>P129828</td>\n",
       "    </tr>\n",
       "    <tr>\n",
       "      <td>1</td>\n",
       "      <td>11</td>\n",
       "      <td></td>\n",
       "      <td>P129828</td>\n",
       "    </tr>\n",
       "    <tr>\n",
       "      <td>2</td>\n",
       "      <td>1</td>\n",
       "      <td>Economic management</td>\n",
       "      <td>P144674</td>\n",
       "    </tr>\n",
       "    <tr>\n",
       "      <td>3</td>\n",
       "      <td>6</td>\n",
       "      <td>Social protection and risk management</td>\n",
       "      <td>P144674</td>\n",
       "    </tr>\n",
       "    <tr>\n",
       "      <td>4</td>\n",
       "      <td>5</td>\n",
       "      <td>Trade and integration</td>\n",
       "      <td>P145310</td>\n",
       "    </tr>\n",
       "  </tbody>\n",
       "</table>\n",
       "</div>"
      ],
      "text/plain": [
       "  code                                   name       id\n",
       "0  8    Human development                      P129828\n",
       "1  11                                          P129828\n",
       "2  1    Economic management                    P144674\n",
       "3  6    Social protection and risk management  P144674\n",
       "4  5    Trade and integration                  P145310"
      ]
     },
     "execution_count": 90,
     "metadata": {},
     "output_type": "execute_result"
    }
   ],
   "source": [
    "with open(r'C:\\Users\\Evan\\Programming\\Jupiter Projects\\data_wrangling_json\\data\\world_bank_projects.json') as file:\n",
    "    data = json.load(file)\n",
    "df_mjthemes = json_normalize(data, 'mjtheme_namecode', ['id'])\n",
    "df_mjthemes.groupby('id').code.nunique().sort_values(ascending=False).head(10)\n",
    "df_mjthemes.head(5)"
   ]
  },
  {
   "cell_type": "markdown",
   "metadata": {},
   "source": [
    "Looks like codes of themes range from 1 - 11 and some names are missing entirely.\n",
    "Print out top 10 theme names."
   ]
  },
  {
   "cell_type": "code",
   "execution_count": 91,
   "metadata": {
    "scrolled": false
   },
   "outputs": [
    {
     "data": {
      "text/plain": [
       "Environment and natural resources management    223\n",
       "Rural development                               202\n",
       "Human development                               197\n",
       "Public sector governance                        184\n",
       "Social protection and risk management           158\n",
       "Financial and private sector development        130\n",
       "                                                122\n",
       "Social dev/gender/inclusion                     119\n",
       "Trade and integration                           72 \n",
       "Urban development                               47 \n",
       "Name: name, dtype: int64"
      ]
     },
     "execution_count": 91,
     "metadata": {},
     "output_type": "execute_result"
    }
   ],
   "source": [
    "df_mjthemes.name.value_counts().head(10)"
   ]
  },
  {
   "cell_type": "markdown",
   "metadata": {},
   "source": [
    "## Task 3: Create a dataframe with the missing names filled in.\n",
    "Fill in missing names based on their codes.\n"
   ]
  },
  {
   "cell_type": "code",
   "execution_count": 92,
   "metadata": {},
   "outputs": [
    {
     "data": {
      "text/plain": [
       "(1499, 4)"
      ]
     },
     "execution_count": 92,
     "metadata": {},
     "output_type": "execute_result"
    }
   ],
   "source": [
    "# table for code > name\n",
    "df_mjthemes_code = df_mjthemes.groupby('name').code.max().sort_values(ascending=False)\n",
    "# get rid of the missing rows\n",
    "df_mjthemes_code = df_mjthemes_code[df_mjthemes_code.index != '']\n",
    "# create dataframe\n",
    "df_mjthemes_code = pd.DataFrame(df_mjthemes_code,columns=['code'])\n",
    "# create column for clean names\n",
    "df_mjthemes_code['name_clean'] = df_mjthemes_code.index\n",
    "# set code to be the index\n",
    "df_mjthemes_name = df_mjthemes_code.set_index(['code'])\n",
    "# merge on the name via code for the missing themes\n",
    "df_mjthemes.shape\n",
    "df_mjthemes_cleaned = df_mjthemes.merge(df_themes_code_to_name,how='outer',left_on=['code'],right_index=True)\n",
    "df_mjthemes_cleaned.shape"
   ]
  },
  {
   "cell_type": "markdown",
   "metadata": {},
   "source": [
    "Top 10 themes with filled in values\n"
   ]
  },
  {
   "cell_type": "code",
   "execution_count": 94,
   "metadata": {
    "collapsed": true
   },
   "outputs": [
    {
     "data": {
      "text/plain": [
       "Environment and natural resources management    250\n",
       "Rural development                               216\n",
       "Human development                               210\n",
       "Public sector governance                        199\n",
       "Social protection and risk management           168\n",
       "Financial and private sector development        146\n",
       "Social dev/gender/inclusion                     130\n",
       "Trade and integration                           77 \n",
       "Urban development                               50 \n",
       "Economic management                             38 \n",
       "Name: name_clean, dtype: int64"
      ]
     },
     "execution_count": 94,
     "metadata": {},
     "output_type": "execute_result"
    }
   ],
   "source": [
    "df_mjthemes_cleaned.name_clean.value_counts().head(10)"
   ]
  },
  {
   "cell_type": "markdown",
   "metadata": {},
   "source": [
    "Bring cleaned data and original data together"
   ]
  },
  {
   "cell_type": "code",
   "execution_count": 96,
   "metadata": {
    "collapsed": true
   },
   "outputs": [
    {
     "data": {
      "text/html": [
       "<div>\n",
       "<style scoped>\n",
       "    .dataframe tbody tr th:only-of-type {\n",
       "        vertical-align: middle;\n",
       "    }\n",
       "\n",
       "    .dataframe tbody tr th {\n",
       "        vertical-align: top;\n",
       "    }\n",
       "\n",
       "    .dataframe thead th {\n",
       "        text-align: right;\n",
       "    }\n",
       "</style>\n",
       "<table border=\"1\" class=\"dataframe\">\n",
       "  <thead>\n",
       "    <tr style=\"text-align: right;\">\n",
       "      <th></th>\n",
       "      <th>theme_names</th>\n",
       "      <th>theme_codes</th>\n",
       "    </tr>\n",
       "    <tr>\n",
       "      <th>id</th>\n",
       "      <th></th>\n",
       "      <th></th>\n",
       "    </tr>\n",
       "  </thead>\n",
       "  <tbody>\n",
       "    <tr>\n",
       "      <td>P075941</td>\n",
       "      <td>Trade and integration|Social dev/gender/inclusion|Financial and private sector development|Rural development</td>\n",
       "      <td>4|7|10|5</td>\n",
       "    </tr>\n",
       "    <tr>\n",
       "      <td>P085621</td>\n",
       "      <td>Environment and natural resources management|Environment and natural resources management|Environment and natural resources management|Social dev/gender/inclusion</td>\n",
       "      <td>11|7|11|11</td>\n",
       "    </tr>\n",
       "    <tr>\n",
       "      <td>P086592</td>\n",
       "      <td>Environment and natural resources management|Rural development|Rural development|Rural development</td>\n",
       "      <td>11|10|10|10</td>\n",
       "    </tr>\n",
       "    <tr>\n",
       "      <td>P094183</td>\n",
       "      <td>Trade and integration|Trade and integration|Rural development</td>\n",
       "      <td>10|5|5</td>\n",
       "    </tr>\n",
       "    <tr>\n",
       "      <td>P095003</td>\n",
       "      <td>Trade and integration|Rural development</td>\n",
       "      <td>5|10</td>\n",
       "    </tr>\n",
       "  </tbody>\n",
       "</table>\n",
       "</div>"
      ],
      "text/plain": [
       "                                                                                                                                                                theme_names  \\\n",
       "id                                                                                                                                                                            \n",
       "P075941  Trade and integration|Social dev/gender/inclusion|Financial and private sector development|Rural development                                                         \n",
       "P085621  Environment and natural resources management|Environment and natural resources management|Environment and natural resources management|Social dev/gender/inclusion   \n",
       "P086592  Environment and natural resources management|Rural development|Rural development|Rural development                                                                   \n",
       "P094183  Trade and integration|Trade and integration|Rural development                                                                                                        \n",
       "P095003  Trade and integration|Rural development                                                                                                                              \n",
       "\n",
       "         theme_codes  \n",
       "id                    \n",
       "P075941  4|7|10|5     \n",
       "P085621  11|7|11|11   \n",
       "P086592  11|10|10|10  \n",
       "P094183  10|5|5       \n",
       "P095003  5|10         "
      ]
     },
     "execution_count": 96,
     "metadata": {},
     "output_type": "execute_result"
    }
   ],
   "source": [
    "#list of cleaned theme names\n",
    "df_mjtheme_names = pd.DataFrame(df_mjthemes_cleaned.groupby('id').apply(lambda x: '|'.join(x['name_clean'])),columns=['theme_names'])\n",
    "\n",
    "df_mjtheme_codes = pd.DataFrame(df_mjthemes.groupby('id').apply(lambda x: '|'.join(x['code'])),columns=['theme_codes'])\n",
    "#table for merging two dfs\n",
    "df_mjtheme_table = df_mjtheme_names.merge(df_mjtheme_codes,left_index=True,right_index=True)\n",
    "\n",
    "df_mjtheme_table.head()"
   ]
  },
  {
   "cell_type": "markdown",
   "metadata": {},
   "source": [
    "Merge lists of themes codes and names for original dataframe"
   ]
  },
  {
   "cell_type": "code",
   "execution_count": 100,
   "metadata": {},
   "outputs": [
    {
     "data": {
      "text/html": [
       "<div>\n",
       "<style scoped>\n",
       "    .dataframe tbody tr th:only-of-type {\n",
       "        vertical-align: middle;\n",
       "    }\n",
       "\n",
       "    .dataframe tbody tr th {\n",
       "        vertical-align: top;\n",
       "    }\n",
       "\n",
       "    .dataframe thead th {\n",
       "        text-align: right;\n",
       "    }\n",
       "</style>\n",
       "<table border=\"1\" class=\"dataframe\">\n",
       "  <thead>\n",
       "    <tr style=\"text-align: right;\">\n",
       "      <th></th>\n",
       "      <th>id</th>\n",
       "      <th>mjtheme_namecode</th>\n",
       "      <th>theme_names</th>\n",
       "      <th>theme_codes</th>\n",
       "    </tr>\n",
       "  </thead>\n",
       "  <tbody>\n",
       "    <tr>\n",
       "      <td>0</td>\n",
       "      <td>P129828</td>\n",
       "      <td>[{'code': '8', 'name': 'Human development'}, {'code': '11', 'name': ''}]</td>\n",
       "      <td>Human development|Environment and natural resources management</td>\n",
       "      <td>8|11</td>\n",
       "    </tr>\n",
       "    <tr>\n",
       "      <td>1</td>\n",
       "      <td>P144674</td>\n",
       "      <td>[{'code': '1', 'name': 'Economic management'}, {'code': '6', 'name': 'Social protection and risk management'}]</td>\n",
       "      <td>Economic management|Social protection and risk management</td>\n",
       "      <td>1|6</td>\n",
       "    </tr>\n",
       "    <tr>\n",
       "      <td>2</td>\n",
       "      <td>P145310</td>\n",
       "      <td>[{'code': '5', 'name': 'Trade and integration'}, {'code': '2', 'name': 'Public sector governance'}, {'code': '11', 'name': 'Environment and natural resources management'}, {'code': '6', 'name': 'Social protection and risk management'}]</td>\n",
       "      <td>Environment and natural resources management|Social protection and risk management|Trade and integration|Public sector governance</td>\n",
       "      <td>5|2|11|6</td>\n",
       "    </tr>\n",
       "    <tr>\n",
       "      <td>3</td>\n",
       "      <td>P144665</td>\n",
       "      <td>[{'code': '7', 'name': 'Social dev/gender/inclusion'}, {'code': '7', 'name': 'Social dev/gender/inclusion'}]</td>\n",
       "      <td>Social dev/gender/inclusion|Social dev/gender/inclusion</td>\n",
       "      <td>7|7</td>\n",
       "    </tr>\n",
       "    <tr>\n",
       "      <td>4</td>\n",
       "      <td>P144933</td>\n",
       "      <td>[{'code': '5', 'name': 'Trade and integration'}, {'code': '4', 'name': 'Financial and private sector development'}]</td>\n",
       "      <td>Trade and integration|Financial and private sector development</td>\n",
       "      <td>5|4</td>\n",
       "    </tr>\n",
       "  </tbody>\n",
       "</table>\n",
       "</div>"
      ],
      "text/plain": [
       "        id  \\\n",
       "0  P129828   \n",
       "1  P144674   \n",
       "2  P145310   \n",
       "3  P144665   \n",
       "4  P144933   \n",
       "\n",
       "                                                                                                                                                                                                                              mjtheme_namecode  \\\n",
       "0  [{'code': '8', 'name': 'Human development'}, {'code': '11', 'name': ''}]                                                                                                                                                                      \n",
       "1  [{'code': '1', 'name': 'Economic management'}, {'code': '6', 'name': 'Social protection and risk management'}]                                                                                                                                \n",
       "2  [{'code': '5', 'name': 'Trade and integration'}, {'code': '2', 'name': 'Public sector governance'}, {'code': '11', 'name': 'Environment and natural resources management'}, {'code': '6', 'name': 'Social protection and risk management'}]   \n",
       "3  [{'code': '7', 'name': 'Social dev/gender/inclusion'}, {'code': '7', 'name': 'Social dev/gender/inclusion'}]                                                                                                                                  \n",
       "4  [{'code': '5', 'name': 'Trade and integration'}, {'code': '4', 'name': 'Financial and private sector development'}]                                                                                                                           \n",
       "\n",
       "                                                                                                                         theme_names  \\\n",
       "0  Human development|Environment and natural resources management                                                                      \n",
       "1  Economic management|Social protection and risk management                                                                           \n",
       "2  Environment and natural resources management|Social protection and risk management|Trade and integration|Public sector governance   \n",
       "3  Social dev/gender/inclusion|Social dev/gender/inclusion                                                                             \n",
       "4  Trade and integration|Financial and private sector development                                                                      \n",
       "\n",
       "  theme_codes  \n",
       "0  8|11        \n",
       "1  1|6         \n",
       "2  5|2|11|6    \n",
       "3  7|7         \n",
       "4  5|4         "
      ]
     },
     "execution_count": 100,
     "metadata": {},
     "output_type": "execute_result"
    }
   ],
   "source": [
    "df_orig_clean = df.merge(df_mjtheme_table,how='right',left_on=['id'],right_index=True,)\n",
    "df_orig_clean[['id', 'mjtheme_namecode', 'theme_names', 'theme_codes']].head()"
   ]
  },
  {
   "cell_type": "code",
   "execution_count": null,
   "metadata": {},
   "outputs": [],
   "source": []
  },
  {
   "cell_type": "code",
   "execution_count": null,
   "metadata": {},
   "outputs": [],
   "source": []
  },
  {
   "cell_type": "code",
   "execution_count": null,
   "metadata": {},
   "outputs": [],
   "source": []
  },
  {
   "cell_type": "code",
   "execution_count": null,
   "metadata": {},
   "outputs": [],
   "source": []
  },
  {
   "cell_type": "code",
   "execution_count": null,
   "metadata": {},
   "outputs": [],
   "source": []
  }
 ],
 "metadata": {
  "kernelspec": {
   "display_name": "Python 3",
   "language": "python",
   "name": "python3"
  },
  "language_info": {
   "codemirror_mode": {
    "name": "ipython",
    "version": 3
   },
   "file_extension": ".py",
   "mimetype": "text/x-python",
   "name": "python",
   "nbconvert_exporter": "python",
   "pygments_lexer": "ipython3",
   "version": "3.7.4"
  }
 },
 "nbformat": 4,
 "nbformat_minor": 2
}
